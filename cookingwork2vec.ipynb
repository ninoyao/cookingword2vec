{
 "cells": [
  {
   "cell_type": "code",
   "execution_count": 40,
   "metadata": {
    "collapsed": true
   },
   "outputs": [],
   "source": [
    "from gensim.models import word2vec\n",
    "from pprint import pprint"
   ]
  },
  {
   "cell_type": "code",
   "execution_count": 8,
   "metadata": {},
   "outputs": [],
   "source": [
    "class MySentences(object):\n",
    "    def __init__(self, fname):\n",
    "        self.fname = fname\n",
    " \n",
    "    def __iter__(self):\n",
    "        for line in open(self.fname,'r'):\n",
    "            yield line.split()\n"
   ]
  },
  {
   "cell_type": "code",
   "execution_count": 9,
   "metadata": {
    "collapsed": true
   },
   "outputs": [],
   "source": [
    "def w2vTrain(f_input, model_output):         \n",
    "\n",
    "    sentences = MySentences(DataDir+f_input)\n",
    "\n",
    "    w2v_model = word2vec.Word2Vec(sentences, \n",
    "\n",
    "                                  min_count = MIN_COUNT, \n",
    "\n",
    "                                  workers = CPU_NUM, \n",
    "\n",
    "                                  size = VEC_SIZE,\n",
    "\n",
    "                                  window = CONTEXT_WINDOW\n",
    "\n",
    "                                 )\n",
    "\n",
    "    w2v_model.save(ModelDir+model_output)"
   ]
  },
  {
   "cell_type": "code",
   "execution_count": 14,
   "metadata": {
    "collapsed": true
   },
   "outputs": [],
   "source": [
    "DataDir = \"/Users/nino/Desktop/Kaggle/cooking/all/\"\n",
    "ModelDir = \"/Users/nino/Desktop/Kaggle/cooking/\"\n",
    "MIN_COUNT = 4\n",
    "CPU_NUM = 2 \n",
    "VEC_SIZE = 20\n",
    "CONTEXT_WINDOW = 5 "
   ]
  },
  {
   "cell_type": "code",
   "execution_count": 15,
   "metadata": {
    "collapsed": true
   },
   "outputs": [],
   "source": [
    "f_input = \"train.json\"\n",
    "model_output = \"test_w2v_model\""
   ]
  },
  {
   "cell_type": "code",
   "execution_count": 16,
   "metadata": {},
   "outputs": [],
   "source": [
    "w2vTrain(f_input,model_output)"
   ]
  },
  {
   "cell_type": "code",
   "execution_count": 17,
   "metadata": {
    "collapsed": true
   },
   "outputs": [],
   "source": [
    "w2v_model = word2vec.Word2Vec.load(ModelDir+model_output)"
   ]
  },
  {
   "cell_type": "code",
   "execution_count": 41,
   "metadata": {
    "collapsed": true
   },
   "outputs": [],
   "source": [
    "def similar(name):pprint( w2v_model.wv.most_similar(name))"
   ]
  },
  {
   "cell_type": "code",
   "execution_count": 42,
   "metadata": {
    "scrolled": true
   },
   "outputs": [
    {
     "name": "stdout",
     "output_type": "stream",
     "text": [
      "[('chicken', 0.9388236403465271),\n",
      " ('\"chicken', 0.8724414110183716),\n",
      " ('canned', 0.8719589114189148),\n",
      " ('\"duck', 0.8652645945549011),\n",
      " ('\"no', 0.8492195010185242),\n",
      " ('chuck', 0.8235787749290466),\n",
      " ('\"turkey', 0.8133895397186279),\n",
      " ('bought', 0.8003687262535095),\n",
      " ('vegetable', 0.7998163104057312),\n",
      " ('eye', 0.7942566275596619)]\n"
     ]
    }
   ],
   "source": [
    "similar('beef')"
   ]
  }
 ],
 "metadata": {
  "kernelspec": {
   "display_name": "Python 3",
   "language": "python",
   "name": "python3"
  },
  "language_info": {
   "codemirror_mode": {
    "name": "ipython",
    "version": 3
   },
   "file_extension": ".py",
   "mimetype": "text/x-python",
   "name": "python",
   "nbconvert_exporter": "python",
   "pygments_lexer": "ipython3",
   "version": "3.6.3"
  }
 },
 "nbformat": 4,
 "nbformat_minor": 2
}
